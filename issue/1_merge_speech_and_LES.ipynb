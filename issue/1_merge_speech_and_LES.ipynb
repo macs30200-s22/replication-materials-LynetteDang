{
 "cells": [
  {
   "cell_type": "markdown",
   "id": "de394dca",
   "metadata": {},
   "source": [
    "## Retrieve house and senate speech json files"
   ]
  },
  {
   "cell_type": "code",
   "execution_count": 1,
   "id": "293b8cb5",
   "metadata": {},
   "outputs": [],
   "source": [
    "import json\n",
    "with open('data/senate_speech (1).json') as json_file:\n",
    "    senate_speech_1 = json.load(json_file)"
   ]
  },
  {
   "cell_type": "code",
   "execution_count": 2,
   "id": "3bc9e5bf",
   "metadata": {},
   "outputs": [],
   "source": [
    "with open('data/senate_speech (2).json') as json_file:\n",
    "    senate_speech_2 = json.load(json_file)"
   ]
  },
  {
   "cell_type": "code",
   "execution_count": 3,
   "id": "6d4c79c0",
   "metadata": {},
   "outputs": [],
   "source": [
    "with open('data/house_speech.json') as json_file:\n",
    "    house_speech = json.load(json_file)"
   ]
  },
  {
   "cell_type": "markdown",
   "id": "5bfce8cd",
   "metadata": {},
   "source": [
    "## Merge all three files into a dictionary"
   ]
  },
  {
   "cell_type": "code",
   "execution_count": 4,
   "id": "e129bdfc",
   "metadata": {},
   "outputs": [],
   "source": [
    "def Merge(dict_1, dict_2):\n",
    "    result = dict_1 | dict_2\n",
    "    return result\n",
    "\n",
    "senate_speech = Merge(senate_speech_1, senate_speech_2)\n",
    "speech = Merge(senate_speech, house_speech)"
   ]
  },
  {
   "cell_type": "code",
   "execution_count": 5,
   "id": "8c525a4c",
   "metadata": {},
   "outputs": [
    {
     "name": "stdout",
     "output_type": "stream",
     "text": [
      "dict_keys(['Mr. GRASSLEY', 'Mr. SCHUMER', 'Mr. CORNYN', 'Mr. HAWLEY', 'Mr. KAINE', 'Mr. DURBIN', 'Mr. CARDIN', 'Mr. THUNE', 'Mr. BROWN', 'Mr. BLUMENTHAL', 'Mr. GARDNER', 'Ms. COLLINS', 'Mrs. BLACKBURN', 'Mr. MURPHY', 'Mr. BLUNT', 'Mr. RUBIO', 'Mr. ROBERTS', 'Mr. MENENDEZ', 'Mr. BARRASSO', 'Mr. MARKEY', 'Mr. INHOFE', 'Mr. BOOZMAN', 'Mr. WHITEHOUSE', 'Ms. HARRIS', 'Mr. RISCH', 'Mr. TOOMEY', 'Ms. DUCKWORTH', 'Mrs. FISCHER', 'Mr. UDALL', 'Mr. PORTMAN', 'Mrs. MURRAY', 'Mr. COTTON', 'Ms. SMITH', 'Mr. LANKFORD', 'Ms. BALDWIN', 'Mr. DAINES', 'Ms. WARREN', 'Mr. BOOKER', 'Ms. STABENOW', 'Mr. PETERS', 'Mr. JOHNSON', 'Mr. LEAHY', 'Mr. CARPER', 'Mr. MERKLEY', 'Mr. TESTER', 'Mr. WYDEN', 'Mr. SCOTT of Florida', 'Mr. CRAMER', 'Mr. HOEVEN', 'Mr. SULLIVAN', 'Ms. McSALLY', 'Mr. CRAPO', 'Mr. CASEY', 'Mr. REED', 'Mr. ENZI', 'Mr. WICKER', 'Ms. CANTWELL', 'Mr. SANDERS', 'Mr. TILLIS', 'Ms. MURKOWSKI', 'Mrs. SHAHEEN', 'Mr. YOUNG', 'Mr. MORAN', 'Mr. CRAWLEY', 'Mrs. FEINSTEIN', 'Ms. HASSAN', 'Mr. SCHIFF', 'Ms. WILLIAMS', 'Ms. HILL', 'Mr. GOLDMAN', 'Ms. MADDOW', 'Mr. PARNAS', 'Mr. KENT', 'Ms. SPEIER', 'Mr. TAYLOR', 'Mr. HOLMES', 'Mr. SONDLAND', 'Mr. MULVANEY', 'Ms. SEWELL', 'Mr. SWALWELL', 'Mr. MORRISON', 'Mr. TRUMP', 'Mr. KARL', 'Ms. YOVANOVITCH', 'Mr. MALONEY', 'Mr. VINDMAN', 'Mr. GERHARDT', 'Mr. EISEN', 'Ms. KARLAN', 'Mr. DERSHOWITZ', 'Mr. FELDMAN', 'Mr. GRAHAM', 'Mr. HIMES', 'Mr. BOSSERT', 'Mr. GIULIANI', 'Ms. BREAM', 'Ms. COOPER', 'Ms. CARSON', 'Mr. CARSON', 'Mr. QUIGLEY', 'Mr. GOWDY', 'Mr. TURNER', 'Mr. WENSTRUP', 'Mr. RATCLIFFE', 'Ms. STEFANIK', 'Mr. CASTOR', 'Mr. HURD', 'Mr. TODD', 'Mr. HALE', 'Ms. ROBACH', 'Mr. NADLER', 'Mr. RICHMOND', 'Mr. TAPPER', 'Ms. LOFGREN', 'Ms. ROSEN', 'Mr. LEE', 'Mr. KENNEDY', 'Mr. CRUZ', 'Mr. SCHATZ', 'Mr. ROUNDS', 'Mr. KING', 'Mr. HEINRICH', 'Ms. ERNST', 'Mrs. CAPITO', 'Mr. PERDUE', 'Mr. MANCHIN', 'Mr. BURR', 'Mr. WARNER', 'Mr. SHELBY', 'Mr. SCOTT of South Carolina', 'Mr. CASSIDY', 'Mr. SASSE', 'Mr. ROMNEY', 'Ms. KLOBUCHAR', 'Mr. COONS', 'Mrs. LOEFFLER', 'Mrs. GILLIBRAND', 'Ms. SINEMA', 'Mr. PAUL', 'Mr. JONES', 'Mr. STEPHANOPOULOS', 'Ms. HIRONO', 'Mr. BRAUN', 'Mr. BENNET', 'Mr. SEKULOW', 'Mr. ALEXANDER', 'Mr. PHILBIN', 'Mr. CIPOLLONE', 'Mr. MCCONNELL', 'Mr. RASKIN', 'Mr. ELLISON', 'Ms. WATERS', 'Mr. GREEN of Texas', 'Mr. COHEN', 'Mr. CASTRO of Texas', 'Mr. ESPAILLAT', 'Ms. OMAR', 'Ms. OCASIO-CORTEZ', 'Ms. TLAIB', 'Mr. SHERMAN', 'Mrs. HYDE-SMITH', 'Mrs. COLLINS', 'Mr. MURKOWSKI', 'Mr. GARDENER', 'Mrs. MURKOWSKI', 'Mr. BLUMENAUER', 'Mr. BARASSO', 'Mr. XXX', 'Mr. ERNST', 'Mr. COLLINS', 'Mrs. ERNST', 'Ms. FEINSTEIN', 'Mr. SCOTT', 'Mr. STABENOW', 'Mr. ISAKSON', 'Mrs. LANKFORD', 'Mr. FISCHER', 'Mrs. HYDE-SMTIH', 'Mr. SENATOR', 'Mr. McDONNELL', 'Ms. BLACKBURN', 'Mr. HASTINGS', 'Mr. SCHNEIDER', 'Mr. WILSON of South Carolina', 'Mr. THOMPSON of Pennsylvania', 'Mr. HURD of Texas', 'Mrs. BROOKS of Indiana', 'Mr. COLE', 'Mr. McGOVERN', 'Mr. KILMER', 'Mr. SARBANES', 'Mr. LIPINSKI', 'Mr. HOYER', 'Mr. JEFFRIES', 'Ms. CHENEY', 'Mr. DEUTCH', 'Mr. BARR', 'Mr. MITCHELL', 'Mr. COURTNEY', 'Mr. CURTIS', 'Mr. McEACHIN', 'Mr. MARSHALL', 'Mr. WATKINS', 'Mrs. McBATH', 'Ms. PRESSLEY', 'Mr. PALLONE', 'Mr. BURGESS', 'Mrs. DINGELL', 'Mr. GUTHRIE', 'Mr. LATTA', 'Ms. ESHOO', 'Mr. THOMPSON of Mississippi', 'Mr. ROGERS of Alabama', 'Mr. SHIMKUS', 'Mr. TONKO', 'Ms. VELAZQUEZ', 'Mr. CHABOT', 'Mr. COMER', 'Mrs. KIRKPATRICK', 'Mr. BOST', 'Ms. KAPTUR', 'Mr. PALAZZO', 'Ms. BROWNLEY of California', 'Mr. CARTER of Georgia', 'Mr. OLSON', 'Mr. FERGUSON', 'Mr. GOHMERT', 'Mr. MEUSER', 'Mr. CARBAJAL', 'Mr. DUNCAN', 'Mr. TAKANO', 'Mr. BROOKS of Alabama', 'Ms. CLARKE of New York', 'Mr. LOUDERMILK', 'Mr. GALLEGO', 'Mr. FITZPATRICK', 'Mr. ROSE of New York', 'Mr. GONZALEZ of Texas', 'Mr. HILL of Arkansas', 'Ms. HAALAND', 'Ms. JOHNSON of Texas', 'Mr. GIANFORTE', 'Ms. PINGREE', 'Mr. NEWHOUSE', 'Mr. HIGGINS of New York', 'Mr. SMUCKER', 'Mr. BERA', 'Mr. LEVIN of Michigan', 'Ms. UNDERWOOD', 'Ms. WEXTON', 'Ms. SHALALA', 'Mrs. DAVIS of California', 'Ms. SCHRIER', 'Ms. SCANLON', 'Mr. PERLMUTTER', 'Mr. GRAVES of Georgia', 'Mrs. LOWEY', 'Ms. GRANGER', 'Mr. BISHOP of Georgia', 'Mr. McHENRY', 'Mr. CRIST', 'Mr. GARCIA of Illinois', 'Mr. NEAL', 'Ms. LEE of California', 'Mr. CONNOLLY', 'Mr. SCOTT of Virginia', 'Mr. WALDEN', 'Mr. DOGGETT', 'Mr. ARRINGTON', 'Mr. ALLRED', 'Mr. NUNES', 'Mr. CLYBURN', 'Ms. MOORE', 'Mr. BIGGS', 'Ms. WILD', 'Mr. BURCHETT', 'Mr. CASE', 'Ms. SLOTKIN', 'Mr. YOHO', 'Mr. CORREA', 'Mr. GROTHMAN', 'Mr. JOHNSON of Georgia', 'Mr. FORTENBERRY', 'Mr. McCLINTOCK', 'Mr. BROWN of Maryland', 'Ms. BONAMICI', 'Mr. DeFAZIO', 'Mr. PAPPAS', 'Mr. RUIZ', 'Mr. SCHRADER', 'Ms. ESCOBAR', 'Mr. CUNNINGHAM', 'Mr. BUTTERFIELD', 'Ms. HOULAHAN', 'Mr. GRAVES of Louisiana', 'Mr. VEASEY', 'Mr. ESTES', 'Mr. HORSFORD', 'Mr. MORELLE', 'Mr. RIGGLEMAN', 'Mr. COX of California', 'Mr. BUDD', 'Mrs. BEATTY', 'Mrs. LAWRENCE', 'Ms. TITUS', 'Ms. GABBARD', 'Mr. ADERHOLT', 'Ms. DeLAURO', 'Mr. COSTA', 'Mr. KILDEE', 'Mr. DIAZ-BALART', 'Mr. PANETTA', 'Mr. PRICE of North Carolina', 'Mr. SIMPSON', 'Mr. RUTHERFORD', 'Ms. CLARK of Massachusetts', 'Ms. SHERRILL', 'Ms. HILL of California', 'Mr. ENGEL', 'Mr. McCAUL', 'Mr. SMITH of New Jersey', 'Mr. BILIRAKIS', 'Mr. ROY', 'Ms. SPANBERGER', 'Mr. SPANO', 'Ms. DEAN', 'Mr. NEGUSE', 'Mr. MEADOWS', 'Ms. GARCIA of Texas', 'Mrs. HARTZLER', 'Mr. JOHNSON of Louisiana', 'Mrs. LESKO', 'Mr. STAUBER', 'Mrs. ROBY', 'Mr. BABIN', 'Mr. ROUZER', 'Ms. PORTER', 'Mr. LEVIN of California', 'Mr. SCHWEIKERT', 'Mrs. CRAIG', 'Mr. JOYCE of Pennsylvania', 'Mrs. BUSTOS', 'Ms. McCOLLUM', 'Mr. CALVERT', 'Mr. JOYCE of Ohio', 'Mr. HUFFMAN', 'Mr. STEWART', 'Mr. WESTERMAN', 'Mr. GRIJALVA', 'Mr. CUMMINGS', 'Ms. PELOSI', 'Mr. WOMACK', 'Mr. CROW', 'Mrs. WAGNER', 'Mr. MARINO', 'Mr. SCALISE', 'Mr. HARDER of California', 'Mr. DUNN', 'Mr. CLAY', 'Ms. STEVENS', 'Mrs. FLETCHER', 'Mr. EVANS', 'Mr. KING of Iowa', 'Ms. FINKENAUER', 'Mr. ROUDA', 'Mr. SMITH of Missouri', 'Mr. SMITH of Nebraska', 'Mrs. WALORSKI', 'Mr. RUSH', 'Mr. RYAN', 'Ms. FOXX of North Carolina', 'Mrs. MILLER', 'Mr. ALLEN', 'Mr. WALBERG', 'Mr. GREEN of Tennessee', 'Mr. NORMAN', 'Mr. ZELDIN', 'Mr. WELCH', 'Ms. SEWELL of Alabama', 'Ms. ROYBAL-ALLARD', 'Mrs. TRAHAN', 'Mr. GOTTHEIMER', 'Mr. FLEISCHMANN', 'Ms. NORTON', 'Mr. CASTEN of Illinois', 'Mr. CLINE', 'Mr. COLLINS of Georgia', 'Mr. CICILLINE', 'Mr. RESCHENTHALER', 'Mrs. DEMINGS', 'Ms. JAYAPAL', 'Mr. SWALWELL of California', 'Mr. KRISHNAMOORTHI', 'Mr. PETERSON', 'Mr. BERGMAN', 'Mr. ARMSTRONG', 'Mr. GARAMENDI', 'Mr. PERRY', 'Mr. HICE of Georgia', 'Mr. JORDAN', 'Mr. GRIFFITH', 'Mr. CLOUD', 'Mr. DAVIDSON of Ohio', 'Mr. RICE of South Carolina', 'Mr. KUSTOFF of Tennessee', 'Ms. KUSTER of New Hampshire', 'Mr. MALINOWSKI', 'Mr. WILLIAMS', 'Mr. LUJAN', 'Mr. BANKS', 'Ms. FRANKEL', 'Ms. CASTOR of Florida', 'Mrs. LEE of Nevada', 'Mr. HUDSON', 'Ms. MATSUI', 'Mr. THOMPSON of California', 'Ms. PLASKETT', 'Mrs. TORRES of California', 'Mr. SABLAN', 'Mr. MASSIE', 'Ms. MUCARSEL-POWELL', 'Mr. GOMEZ', 'Mr. HUIZENGA', 'Mr. DELGADO', 'Mr. STEIL', 'Mr. McADAMS', 'Mr. POCAN', 'Ms. ADAMS', 'Mr. GOLDEN', 'Mr. CARDENAS', 'Mr. FULCHER', 'Mr. WEBER of Texas', 'Mr. HARRIS', 'Mr. WALTZ', 'Mr. McCARTHY', 'Mr. LANGEVIN', 'Mr. KINZINGER', 'Mr. HAGEDORN', 'Mr. SOTO', 'Ms. KELLY of Illinois', 'Mr. WOODALL', 'Mr. BEYER', 'Ms. SCHAKOWSKY', 'Mrs. MURPHY', 'Mr. SERRANO', 'Mr. ROGERS of Kentucky', 'Mr. EMMER', 'Mr. CONAWAY', 'Mr. GOSAR', 'Mr. LAMBORN', 'Mr. CUELLAR', 'Mr. CISNEROS', 'Mr. AGUILAR', 'Mr. GOODEN', 'Mr. VARGAS', 'Mr. LYNCH', 'Mr. BYRNE', 'Mr. HIGGINS of Louisiana', 'Mr. BACON', 'Mr. KATKO', 'Mr. MOONEY of West Virginia', 'Mr. LAWSON of Florida', 'Mr. WALKER', 'Mr. BRADY', 'Mr. CRENSHAW', 'Mr. PALMER', 'Mr. GAETZ', 'Mr. HARDER', 'Mr. JOHNSON of South Dakota', 'Mr. BRINDISI', 'Mr. TRONE', 'Mr. BUCSHON', 'Mr. SMITH of Washington', 'Mr. KELLY of Mississippi', 'Mr. SIRES', 'Mrs. NAPOLITANO', 'Mr. STEUBE', 'Mr. PAYNE', 'Ms. BASS', 'Mrs. RADEWAGEN', 'Mr. PENCE', 'Mr. LAMB', 'Mr. FOSTER', 'Mr. FLORES', 'Mr. KHANNA', 'Mr. THORNBERRY', 'Mr. BUCK', 'Mr. BAIRD', 'Mr. JOHNSON of Ohio', 'Mrs. RODGERS of Washington', 'Mr. UPTON', 'Mr. PHILLIPS', 'Mr. YARMUTH', 'Mr. LUCAS', 'Mr. WEBSTER of Florida', 'Mr. GONZALEZ of Ohio', 'Mr. MOULTON', 'Mr. GRAVES of Missouri', 'Mr. CRAWFORD', 'Mr. LEWIS', 'Mr. BISHOP of Utah', 'Mr. LOWENTHAL', 'Mr. WITTMAN', 'Mr. NORCROSS', 'Mrs. HAYES', 'Ms. DAVIDS of Kansas', 'Ms. WILSON of Florida', 'Mr. SUOZZI', 'Mr. KIM', 'Mr. CARTWRIGHT', 'Mr. TIPTON', 'Mr. AMASH', 'Mr. LARSON of Connecticut', 'Mr. PASCRELL', 'Mr. HOLDING', 'Mr. POSEY', 'Mr. SCANLON', 'Mr. STANTON', 'Mr. McNERNEY', 'Ms. DeGETTE', 'Ms. MENG', 'Mrs. LURIA', 'Mr. LUETKEMEYER', 'Mr. CLEAVER', 'Mr. DAVIDSON', 'Mr. DeSAULNIER', 'Ms. BARRAGAN', 'Mr. ROONEY of Florida', 'Mr. KEATING', 'Mr. CARSON of Indiana', 'Mr. ABRAHAM', 'Mr. COOK', 'Mrs. AXNE', 'Mr. McKINLEY', 'Mr. VELA', 'Mr. GUEST', 'Mr. STIVERS', 'Mr. MAST', 'Mr. KELLY of Pennsylvania', 'Mr. MOOLENAAR', 'Mr. HOLLINGSWORTH', 'Mr. GIBBS', 'Mr. LONG', 'Mr. WRIGHT', 'Ms. LEE', 'Mr. BALDERSON', 'Mr. VISCLOSKY', 'Mr. STEARNS', 'Mr. FROST', 'Ms. MORELLA', 'Mr. COYNE', 'Mr. GINGREY', 'Mr. KING of New York', 'Mr. GALLAGHER', 'Mr. KIND', 'Mr. HECK', 'Mr. SENSENBRENNER', 'Ms. SANCHEZ', 'Mr. COOPER', 'Ms. FUDGE', 'Mr. KELLER', 'Mr. LAMALFA', 'Mr. COLLINS of New York', 'Mr. LARSEN of Washington', 'Mr. BUCHANAN', 'Mr. LOEBSACK', 'Mr. MULLIN', 'Mr. GRAVES', 'Mr. CARTER of Texas', 'Mr. McCOLLUM', 'Mr. HILL', 'Ms. CRAIG', 'Mr. TIMMONS', 'Mr. DUFFY', 'Mr. RUPPERSBERGER', 'Ms. MURCARSEL-POWELL', 'Mr. HUNTER', 'Mr. BRADY of Texas', 'Mr. KAPTUR', 'Mr. MEEKS', 'Mr. SCHWEICHERT', 'Mr. MARCHANT', 'Mr. BISHOP of North Carolina', 'Mr. MURPHY of North Carolina', 'Mrs. MURPHY of Florida', 'Mr. KUSTOFFF of Tennessee', 'Mr. HIGGINS of Nevada', 'Mr. ROE of Tennessee', 'Mr. GARCIA of ILLINOIS', 'Mr. LAWSON', 'Mr. BISHOP of UTAH', 'Ms. DAVIS of California', 'Ms. LURIA', 'Mr. COLLLINS of Georgia', 'Mr. TONKA', 'Mr. CASTRO', 'Mr. LEVIN', 'Mr. LESKO', 'Mr. BUCK of Colorado', 'Mr. AMODEI', 'Ms. NAPOLITANO', 'Mr. MFUME', 'Ms. LOWEY', 'Mr. GARCIA of California', 'Mr. TIFFANY', 'Mr. HIGGINS', 'Mr. JACOBS', 'Mr. ROSE of Tennessee', 'Mr. McHENERY', 'Mrs. MCBATH', 'Ms. McBATH', 'Mr. LEE of California', 'Ms. JACKSON-LEE', 'Mr. HALL'])\n"
     ]
    }
   ],
   "source": [
    "print(speech.keys())"
   ]
  },
  {
   "cell_type": "markdown",
   "id": "ae441811",
   "metadata": {},
   "source": [
    "## Merge speech data with LES data"
   ]
  },
  {
   "cell_type": "code",
   "execution_count": 6,
   "id": "9dcf21b4",
   "metadata": {},
   "outputs": [],
   "source": [
    "import pandas as pd\n",
    "import fuzzy_pandas as fpd\n",
    "\n",
    "house = pd.read_excel(\"data/House116.xlsx\")\n",
    "senate = pd.read_excel(\"data/Senate116.xlsx\")\n",
    "house = house[['Legislator name', 'Legislative Effectiveness Score', 'party']]\n",
    "senate = senate[['Legislator name',\n",
    "                 'Legislative Effectiveness Score', 'party']]\n",
    "df_les = pd.concat([house, senate], axis=0)"
   ]
  },
  {
   "cell_type": "code",
   "execution_count": 7,
   "id": "5d4f2457",
   "metadata": {},
   "outputs": [
    {
     "data": {
      "text/html": [
       "<div>\n",
       "<style scoped>\n",
       "    .dataframe tbody tr th:only-of-type {\n",
       "        vertical-align: middle;\n",
       "    }\n",
       "\n",
       "    .dataframe tbody tr th {\n",
       "        vertical-align: top;\n",
       "    }\n",
       "\n",
       "    .dataframe thead th {\n",
       "        text-align: right;\n",
       "    }\n",
       "</style>\n",
       "<table border=\"1\" class=\"dataframe\">\n",
       "  <thead>\n",
       "    <tr style=\"text-align: right;\">\n",
       "      <th></th>\n",
       "      <th>name</th>\n",
       "      <th>speech</th>\n",
       "    </tr>\n",
       "  </thead>\n",
       "  <tbody>\n",
       "    <tr>\n",
       "      <th>0</th>\n",
       "      <td>grassley</td>\n",
       "      <td>Mr. GRASSLEY. I do agree. The IRS got the law...</td>\n",
       "    </tr>\n",
       "    <tr>\n",
       "      <th>1</th>\n",
       "      <td>schumer</td>\n",
       "      <td>Mr. SCHUMER. Mr. President, last night, the H...</td>\n",
       "    </tr>\n",
       "    <tr>\n",
       "      <th>2</th>\n",
       "      <td>cornyn</td>\n",
       "      <td>Mr. CORNYN. Mr. President, following the long...</td>\n",
       "    </tr>\n",
       "    <tr>\n",
       "      <th>3</th>\n",
       "      <td>hawley</td>\n",
       "      <td>Mr. HAWLEY. Madam President, just two brief p...</td>\n",
       "    </tr>\n",
       "    <tr>\n",
       "      <th>4</th>\n",
       "      <td>kaine</td>\n",
       "      <td>Mr. KAINE. Mr. President, today I am introduc...</td>\n",
       "    </tr>\n",
       "    <tr>\n",
       "      <th>...</th>\n",
       "      <td>...</td>\n",
       "      <td>...</td>\n",
       "    </tr>\n",
       "    <tr>\n",
       "      <th>609</th>\n",
       "      <td>mcbath</td>\n",
       "      <td>Mrs. MCBATH.  Madam Speaker, I move to suspen...</td>\n",
       "    </tr>\n",
       "    <tr>\n",
       "      <th>610</th>\n",
       "      <td>mcbath</td>\n",
       "      <td>Ms. McBATH. Madam Speaker, I urge my colleagu...</td>\n",
       "    </tr>\n",
       "    <tr>\n",
       "      <th>611</th>\n",
       "      <td>lee</td>\n",
       "      <td>Mr. LEE of California. Mr. Speaker, let me al...</td>\n",
       "    </tr>\n",
       "    <tr>\n",
       "      <th>612</th>\n",
       "      <td>jackson-lee</td>\n",
       "      <td>Ms. JACKSON-LEE. Then I would like to emphasi...</td>\n",
       "    </tr>\n",
       "    <tr>\n",
       "      <th>613</th>\n",
       "      <td>hall</td>\n",
       "      <td>Mr. HALL. Mr. Speaker, the first wave of stim...</td>\n",
       "    </tr>\n",
       "  </tbody>\n",
       "</table>\n",
       "<p>614 rows × 2 columns</p>\n",
       "</div>"
      ],
      "text/plain": [
       "            name                                             speech\n",
       "0       grassley   Mr. GRASSLEY. I do agree. The IRS got the law...\n",
       "1        schumer   Mr. SCHUMER. Mr. President, last night, the H...\n",
       "2         cornyn   Mr. CORNYN. Mr. President, following the long...\n",
       "3         hawley   Mr. HAWLEY. Madam President, just two brief p...\n",
       "4          kaine   Mr. KAINE. Mr. President, today I am introduc...\n",
       "..           ...                                                ...\n",
       "609       mcbath   Mrs. MCBATH.  Madam Speaker, I move to suspen...\n",
       "610       mcbath   Ms. McBATH. Madam Speaker, I urge my colleagu...\n",
       "611          lee   Mr. LEE of California. Mr. Speaker, let me al...\n",
       "612  jackson-lee   Ms. JACKSON-LEE. Then I would like to emphasi...\n",
       "613         hall   Mr. HALL. Mr. Speaker, the first wave of stim...\n",
       "\n",
       "[614 rows x 2 columns]"
      ]
     },
     "execution_count": 7,
     "metadata": {},
     "output_type": "execute_result"
    }
   ],
   "source": [
    "speech = pd.DataFrame.from_dict(speech, orient=\"index\")\n",
    "speech.reset_index(inplace=True)\n",
    "speech.rename(columns = {'index': 'name', 0: 'speech'}, \n",
    "            inplace = True)\n",
    "speech['name'] = speech['name'].map(lambda x: x.split(' ')[1].lower())\n",
    "speech"
   ]
  },
  {
   "cell_type": "markdown",
   "id": "84978f56",
   "metadata": {},
   "source": [
    "## Record linkage by extracting legislator's last name in lowercase"
   ]
  },
  {
   "cell_type": "code",
   "execution_count": 8,
   "id": "a87c4a9a",
   "metadata": {},
   "outputs": [],
   "source": [
    "df_les['Name'] = df_les['Legislator name'].map(lambda x: x.split(' ')[1].lower())"
   ]
  },
  {
   "cell_type": "code",
   "execution_count": 9,
   "id": "e4cb6109",
   "metadata": {},
   "outputs": [],
   "source": [
    "def record_link(df1, df2, threshold, name):\n",
    "    \"\"\"\n",
    "    Merge a dictionary with the LES dataset using record linkage\n",
    "\n",
    "    Inputs:\n",
    "        dic: dictionary object\n",
    "        df2: dataframe containing the LES dataset\n",
    "        threshold: threshold for record linkage\n",
    "        name: name of the output csv file\n",
    "    Outputs:\n",
    "        /\n",
    "    \"\"\"\n",
    "    df_analysis = fpd.fuzzy_merge(df1, df2,\n",
    "                                  left_on='Name',\n",
    "                                  right_on='name',\n",
    "                                  method='levenshtein',\n",
    "                                  threshold=threshold)\n",
    "    df_analysis.to_csv(\"data/\"+name+\".csv\")\n"
   ]
  },
  {
   "cell_type": "code",
   "execution_count": 10,
   "id": "7ee60286",
   "metadata": {},
   "outputs": [],
   "source": [
    "record_link(df_les, speech, 1, \"speech_data\")"
   ]
  },
  {
   "cell_type": "markdown",
   "id": "e058eaab",
   "metadata": {},
   "source": [
    "## Write all rows to the same csv file"
   ]
  },
  {
   "cell_type": "code",
   "execution_count": 11,
   "id": "ed38feb4",
   "metadata": {},
   "outputs": [],
   "source": [
    "raw_issue_analysis = pd.read_csv(\"data/speech_data.csv\")"
   ]
  },
  {
   "cell_type": "code",
   "execution_count": 12,
   "id": "75892f9a",
   "metadata": {},
   "outputs": [],
   "source": [
    "raw_issue_analysis = raw_issue_analysis[['Legislator name', 'Legislative Effectiveness Score', 'party','speech']]"
   ]
  },
  {
   "cell_type": "code",
   "execution_count": 13,
   "id": "ea470b5d",
   "metadata": {},
   "outputs": [
    {
     "data": {
      "text/html": [
       "<div>\n",
       "<style scoped>\n",
       "    .dataframe tbody tr th:only-of-type {\n",
       "        vertical-align: middle;\n",
       "    }\n",
       "\n",
       "    .dataframe tbody tr th {\n",
       "        vertical-align: top;\n",
       "    }\n",
       "\n",
       "    .dataframe thead th {\n",
       "        text-align: right;\n",
       "    }\n",
       "</style>\n",
       "<table border=\"1\" class=\"dataframe\">\n",
       "  <thead>\n",
       "    <tr style=\"text-align: right;\">\n",
       "      <th></th>\n",
       "      <th>Legislator name</th>\n",
       "      <th>Legislative Effectiveness Score</th>\n",
       "      <th>party</th>\n",
       "      <th>speech</th>\n",
       "    </tr>\n",
       "  </thead>\n",
       "  <tbody>\n",
       "    <tr>\n",
       "      <th>0</th>\n",
       "      <td>Ralph Abraham</td>\n",
       "      <td>0.039761</td>\n",
       "      <td>R</td>\n",
       "      <td>Mr. ABRAHAM. Mr. Speaker, on Friday, July 24,...</td>\n",
       "    </tr>\n",
       "    <tr>\n",
       "      <th>1</th>\n",
       "      <td>Alma Adams</td>\n",
       "      <td>1.783789</td>\n",
       "      <td>D</td>\n",
       "      <td>Ms. ADAMS. Mr. Speaker, on that I demand the ...</td>\n",
       "    </tr>\n",
       "    <tr>\n",
       "      <th>2</th>\n",
       "      <td>Robert Aderholt</td>\n",
       "      <td>0.019880</td>\n",
       "      <td>R</td>\n",
       "      <td>Mr. ADERHOLT. Mr. Speaker, I would like to le...</td>\n",
       "    </tr>\n",
       "    <tr>\n",
       "      <th>3</th>\n",
       "      <td>Pete Aguilar</td>\n",
       "      <td>0.049701</td>\n",
       "      <td>D</td>\n",
       "      <td>Mr. AGUILAR. Madam Speaker, I thank the gentl...</td>\n",
       "    </tr>\n",
       "    <tr>\n",
       "      <th>4</th>\n",
       "      <td>Rick Allen</td>\n",
       "      <td>0.039761</td>\n",
       "      <td>R</td>\n",
       "      <td>Mr. ALLEN. Mr. Speaker, I was unable to vote ...</td>\n",
       "    </tr>\n",
       "    <tr>\n",
       "      <th>...</th>\n",
       "      <td>...</td>\n",
       "      <td>...</td>\n",
       "      <td>...</td>\n",
       "      <td>...</td>\n",
       "    </tr>\n",
       "    <tr>\n",
       "      <th>714</th>\n",
       "      <td>Elizabeth Warren</td>\n",
       "      <td>0.725357</td>\n",
       "      <td>D</td>\n",
       "      <td>Ms. WARREN. Mr. President, I ask for the yeas...</td>\n",
       "    </tr>\n",
       "    <tr>\n",
       "      <th>715</th>\n",
       "      <td>Sheldon Whitehouse</td>\n",
       "      <td>0.648167</td>\n",
       "      <td>D</td>\n",
       "      <td>Mr. WHITEHOUSE. Madam President, we are rapid...</td>\n",
       "    </tr>\n",
       "    <tr>\n",
       "      <th>716</th>\n",
       "      <td>Roger Wicker</td>\n",
       "      <td>3.558171</td>\n",
       "      <td>R</td>\n",
       "      <td>Mr. WICKER. Madam President, the Senator, my ...</td>\n",
       "    </tr>\n",
       "    <tr>\n",
       "      <th>717</th>\n",
       "      <td>Ron Wyden</td>\n",
       "      <td>0.927056</td>\n",
       "      <td>D</td>\n",
       "      <td>Mr. WYDEN. Thank you for that background, Mr....</td>\n",
       "    </tr>\n",
       "    <tr>\n",
       "      <th>718</th>\n",
       "      <td>Todd Young</td>\n",
       "      <td>0.544185</td>\n",
       "      <td>R</td>\n",
       "      <td>Mr. YOUNG. Mr. Speaker, I rise today to recog...</td>\n",
       "    </tr>\n",
       "  </tbody>\n",
       "</table>\n",
       "<p>719 rows × 4 columns</p>\n",
       "</div>"
      ],
      "text/plain": [
       "        Legislator name  Legislative Effectiveness Score party  \\\n",
       "0         Ralph Abraham                         0.039761     R   \n",
       "1            Alma Adams                         1.783789     D   \n",
       "2       Robert Aderholt                         0.019880     R   \n",
       "3          Pete Aguilar                         0.049701     D   \n",
       "4            Rick Allen                         0.039761     R   \n",
       "..                  ...                              ...   ...   \n",
       "714    Elizabeth Warren                         0.725357     D   \n",
       "715  Sheldon Whitehouse                         0.648167     D   \n",
       "716        Roger Wicker                         3.558171     R   \n",
       "717           Ron Wyden                         0.927056     D   \n",
       "718          Todd Young                         0.544185     R   \n",
       "\n",
       "                                                speech  \n",
       "0     Mr. ABRAHAM. Mr. Speaker, on Friday, July 24,...  \n",
       "1     Ms. ADAMS. Mr. Speaker, on that I demand the ...  \n",
       "2     Mr. ADERHOLT. Mr. Speaker, I would like to le...  \n",
       "3     Mr. AGUILAR. Madam Speaker, I thank the gentl...  \n",
       "4     Mr. ALLEN. Mr. Speaker, I was unable to vote ...  \n",
       "..                                                 ...  \n",
       "714   Ms. WARREN. Mr. President, I ask for the yeas...  \n",
       "715   Mr. WHITEHOUSE. Madam President, we are rapid...  \n",
       "716   Mr. WICKER. Madam President, the Senator, my ...  \n",
       "717   Mr. WYDEN. Thank you for that background, Mr....  \n",
       "718   Mr. YOUNG. Mr. Speaker, I rise today to recog...  \n",
       "\n",
       "[719 rows x 4 columns]"
      ]
     },
     "execution_count": 13,
     "metadata": {},
     "output_type": "execute_result"
    }
   ],
   "source": [
    "raw_issue_analysis"
   ]
  },
  {
   "cell_type": "markdown",
   "id": "0673ed4e",
   "metadata": {},
   "source": [
    "## Write each row as a separate csv titled by legislator name"
   ]
  },
  {
   "cell_type": "code",
   "execution_count": 14,
   "id": "372aa07c",
   "metadata": {},
   "outputs": [],
   "source": [
    "import csv\n",
    "for i, row in raw_issue_analysis.iterrows():\n",
    "    if i > len(raw_issue_analysis):\n",
    "        break\n",
    "    else:\n",
    "        f = open(f\"data/speech_data/{row['Legislator name']}.csv\", 'w')\n",
    "        writer = csv.writer(f)\n",
    "\n",
    "        # write each row to separate csv file with header\n",
    "        writer.writerow(['name', 'LES', 'party', 'speech'])\n",
    "        writer.writerow(row)\n",
    "\n",
    "        # close the file and increment index\n",
    "        f.close()\n",
    "        i+=1"
   ]
  }
 ],
 "metadata": {
  "kernelspec": {
   "display_name": "Python 3 (ipykernel)",
   "language": "python",
   "name": "python3"
  },
  "language_info": {
   "codemirror_mode": {
    "name": "ipython",
    "version": 3
   },
   "file_extension": ".py",
   "mimetype": "text/x-python",
   "name": "python",
   "nbconvert_exporter": "python",
   "pygments_lexer": "ipython3",
   "version": "3.9.7"
  }
 },
 "nbformat": 4,
 "nbformat_minor": 5
}
