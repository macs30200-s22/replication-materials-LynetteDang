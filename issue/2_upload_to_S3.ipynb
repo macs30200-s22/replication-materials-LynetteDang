{
 "cells": [
  {
   "cell_type": "code",
   "execution_count": 1,
   "id": "990cd21c",
   "metadata": {},
   "outputs": [],
   "source": [
    "import requests\n",
    "import re\n",
    "from bs4 import BeautifulSoup\n",
    "from urllib.parse import urljoin, urlparse\n",
    "from datetime import datetime\n",
    "import time\n",
    "from datetime import date\n",
    "import json\n",
    "import boto3"
   ]
  },
  {
   "cell_type": "code",
   "execution_count": 2,
   "id": "4e64abce",
   "metadata": {},
   "outputs": [
    {
     "name": "stdout",
     "output_type": "stream",
     "text": [
      "[{'Name': 'aws-emr-resources-229410852365-us-east-1', 'CreationDate': datetime.datetime(2022, 5, 21, 17, 38, 1, tzinfo=tzutc())}, {'Name': 'aws-logs-229410852365-us-east-1', 'CreationDate': datetime.datetime(2022, 5, 21, 17, 38, 1, tzinfo=tzutc())}, {'Name': 'lynette-dang-final-project-data', 'CreationDate': datetime.datetime(2022, 5, 28, 22, 45, 53, tzinfo=tzutc())}, {'Name': 'lynette-large-scale-computing-a2', 'CreationDate': datetime.datetime(2022, 5, 6, 3, 3, 49, tzinfo=tzutc())}, {'Name': 'mrjob-825487b9c8950d00', 'CreationDate': datetime.datetime(2022, 5, 8, 3, 56, 36, tzinfo=tzutc())}]\n"
     ]
    }
   ],
   "source": [
    "s3 = boto3.client('s3')\n",
    "s3_resource = boto3.resource('s3')\n",
    "iam_client = boto3.client('iam')\n",
    "role = iam_client.get_role(RoleName='LabRole')\n",
    "bucket = s3.create_bucket(Bucket='lynette-dang-final-project-data')\n",
    "# check if it's already there\n",
    "bucket_response = s3.list_buckets()\n",
    "buckets = bucket_response['Buckets']\n",
    "print(buckets)"
   ]
  },
  {
   "cell_type": "markdown",
   "id": "9a5b1e1b",
   "metadata": {},
   "source": [
    "## All speeches in one csv"
   ]
  },
  {
   "cell_type": "code",
   "execution_count": 3,
   "id": "87713afd",
   "metadata": {},
   "outputs": [
    {
     "name": "stdout",
     "output_type": "stream",
     "text": [
      "[{'Key': 'Abby Finkenauer.csv', 'LastModified': datetime.datetime(2022, 5, 30, 0, 18, 25, tzinfo=tzutc()), 'ETag': '\"87aa214df449ef64d39543c27b7215f3\"', 'Size': 6939, 'StorageClass': 'STANDARD', 'Owner': {'DisplayName': 'awslabsc0w2626839t1627380901', 'ID': '2d8a03811a98d90d6b304f6bc4b184bc1dd6642c3a93abb7579e617aaced1a4c'}}, {'Key': 'Abigail Spanberger.csv', 'LastModified': datetime.datetime(2022, 5, 30, 0, 19, 9, tzinfo=tzutc()), 'ETag': '\"1bc7a4709de959d72ed08ddb429b0583\"', 'Size': 1723, 'StorageClass': 'STANDARD', 'Owner': {'DisplayName': 'awslabsc0w2626839t1627380901', 'ID': '2d8a03811a98d90d6b304f6bc4b184bc1dd6642c3a93abb7579e617aaced1a4c'}}]\n"
     ]
    }
   ],
   "source": [
    "s3.upload_file(Filename='data/speech_data.csv', \n",
    "               Bucket='lynette-dang-final-project-data',\n",
    "               Key = \"speech_data.csv\")\n",
    "response = s3.list_objects(\n",
    "            Bucket='lynette-dang-final-project-data',\n",
    "            MaxKeys=2)\n",
    "print(response['Contents'])"
   ]
  },
  {
   "cell_type": "markdown",
   "id": "d382de16",
   "metadata": {},
   "source": [
    "## All speeches in separate csv"
   ]
  },
  {
   "cell_type": "code",
   "execution_count": 4,
   "id": "e22e5fbd",
   "metadata": {},
   "outputs": [
    {
     "name": "stdout",
     "output_type": "stream",
     "text": [
      "[{'Key': 'Abby Finkenauer.csv', 'LastModified': datetime.datetime(2022, 5, 30, 15, 8, 25, tzinfo=tzutc()), 'ETag': '\"3543df291ae7cd413c8b3e487dad8c09\"', 'Size': 6850, 'StorageClass': 'STANDARD', 'Owner': {'DisplayName': 'awslabsc0w2626839t1627380901', 'ID': '2d8a03811a98d90d6b304f6bc4b184bc1dd6642c3a93abb7579e617aaced1a4c'}}, {'Key': 'Abigail Spanberger.csv', 'LastModified': datetime.datetime(2022, 5, 30, 15, 9, 10, tzinfo=tzutc()), 'ETag': '\"e36618130e096330ff76c1294e3472b2\"', 'Size': 1634, 'StorageClass': 'STANDARD', 'Owner': {'DisplayName': 'awslabsc0w2626839t1627380901', 'ID': '2d8a03811a98d90d6b304f6bc4b184bc1dd6642c3a93abb7579e617aaced1a4c'}}, {'Key': 'Adam Kinzinger.csv', 'LastModified': datetime.datetime(2022, 5, 30, 15, 9, 13, tzinfo=tzutc()), 'ETag': '\"cb5f0fc2df18014a1918351950366f38\"', 'Size': 1980, 'StorageClass': 'STANDARD', 'Owner': {'DisplayName': 'awslabsc0w2626839t1627380901', 'ID': '2d8a03811a98d90d6b304f6bc4b184bc1dd6642c3a93abb7579e617aaced1a4c'}}, {'Key': 'Adam Schiff.csv', 'LastModified': datetime.datetime(2022, 5, 30, 15, 8, 45, tzinfo=tzutc()), 'ETag': '\"4dbecf305c9a978700b952caa48507d9\"', 'Size': 2202, 'StorageClass': 'STANDARD', 'Owner': {'DisplayName': 'awslabsc0w2626839t1627380901', 'ID': '2d8a03811a98d90d6b304f6bc4b184bc1dd6642c3a93abb7579e617aaced1a4c'}}, {'Key': 'Adam Smith.csv', 'LastModified': datetime.datetime(2022, 5, 30, 15, 8, 26, tzinfo=tzutc()), 'ETag': '\"413f08795c983bd9055ad45dc0618a22\"', 'Size': 19887, 'StorageClass': 'STANDARD', 'Owner': {'DisplayName': 'awslabsc0w2626839t1627380901', 'ID': '2d8a03811a98d90d6b304f6bc4b184bc1dd6642c3a93abb7579e617aaced1a4c'}}, {'Key': 'Adrian Smith.csv', 'LastModified': datetime.datetime(2022, 5, 30, 15, 9, 17, tzinfo=tzutc()), 'ETag': '\"8a632f1c110f15f45cc71b420ba9105f\"', 'Size': 19889, 'StorageClass': 'STANDARD', 'Owner': {'DisplayName': 'awslabsc0w2626839t1627380901', 'ID': '2d8a03811a98d90d6b304f6bc4b184bc1dd6642c3a93abb7579e617aaced1a4c'}}, {'Key': 'Adriano Espaillat.csv', 'LastModified': datetime.datetime(2022, 5, 30, 15, 8, 48, tzinfo=tzutc()), 'ETag': '\"c0493e6a5011a067c127fc19e4c2d281\"', 'Size': 172, 'StorageClass': 'STANDARD', 'Owner': {'DisplayName': 'awslabsc0w2626839t1627380901', 'ID': '2d8a03811a98d90d6b304f6bc4b184bc1dd6642c3a93abb7579e617aaced1a4c'}}, {'Key': 'Al Green.csv', 'LastModified': datetime.datetime(2022, 5, 30, 15, 8, 46, tzinfo=tzutc()), 'ETag': '\"ab46a7c7946ebb4fca40d128f639b43a\"', 'Size': 3221, 'StorageClass': 'STANDARD', 'Owner': {'DisplayName': 'awslabsc0w2626839t1627380901', 'ID': '2d8a03811a98d90d6b304f6bc4b184bc1dd6642c3a93abb7579e617aaced1a4c'}}, {'Key': 'Al Lawson.csv', 'LastModified': datetime.datetime(2022, 5, 30, 15, 8, 37, tzinfo=tzutc()), 'ETag': '\"53ff2fe5765d30f345f08af7fe91be4c\"', 'Size': 2841, 'StorageClass': 'STANDARD', 'Owner': {'DisplayName': 'awslabsc0w2626839t1627380901', 'ID': '2d8a03811a98d90d6b304f6bc4b184bc1dd6642c3a93abb7579e617aaced1a4c'}}, {'Key': 'Alan Lowenthal.csv', 'LastModified': datetime.datetime(2022, 5, 30, 15, 9, 8, tzinfo=tzutc()), 'ETag': '\"5b0edec0d75da4b3616d125e84dab61e\"', 'Size': 6769, 'StorageClass': 'STANDARD', 'Owner': {'DisplayName': 'awslabsc0w2626839t1627380901', 'ID': '2d8a03811a98d90d6b304f6bc4b184bc1dd6642c3a93abb7579e617aaced1a4c'}}]\n"
     ]
    }
   ],
   "source": [
    "import os\n",
    "directory = 'data/speech_data'\n",
    "\n",
    "for filename in os.listdir(directory):\n",
    "    if filename.endswith(\".csv\"): \n",
    "        key = filename\n",
    "        local_path = os.path.join('data/speech_data/', filename)\n",
    "        s3.upload_file(Filename=local_path, \n",
    "               Bucket='lynette-dang-final-project-data',\n",
    "               Key = key)\n",
    "response = s3.list_objects(\n",
    "            Bucket='lynette-dang-final-project-data',\n",
    "            MaxKeys=10)\n",
    "print(response['Contents'])"
   ]
  }
 ],
 "metadata": {
  "kernelspec": {
   "display_name": "Python 3 (ipykernel)",
   "language": "python",
   "name": "python3"
  },
  "language_info": {
   "codemirror_mode": {
    "name": "ipython",
    "version": 3
   },
   "file_extension": ".py",
   "mimetype": "text/x-python",
   "name": "python",
   "nbconvert_exporter": "python",
   "pygments_lexer": "ipython3",
   "version": "3.9.7"
  }
 },
 "nbformat": 4,
 "nbformat_minor": 5
}
